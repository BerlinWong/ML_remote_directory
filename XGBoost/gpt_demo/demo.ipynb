{
 "cells": [
  {
   "cell_type": "code",
   "execution_count": 1,
   "metadata": {
    "collapsed": true,
    "ExecuteTime": {
     "end_time": "2023-12-11T07:00:47.807978700Z",
     "start_time": "2023-12-11T07:00:47.346145600Z"
    }
   },
   "outputs": [],
   "source": [
    "\n",
    "# 导入必要的库\n",
    "import pandas as pd\n",
    "from sklearn.model_selection import train_test_split\n",
    "from sklearn.metrics import accuracy_score, classification_report, confusion_matrix\n",
    "import xgboost as xgb\n",
    "from sqlalchemy import create_engine\n"
   ]
  },
  {
   "cell_type": "code",
   "execution_count": null,
   "outputs": [],
   "source": [
    "column_names = ['Code', 'Date', 'Time', 'Open', 'High', 'Low', 'Close', 'Volume', 'Amount', 'AdjustFlag']\n",
    "\n",
    "data = pd.read_csv('../../data/history__stock_k_data_2022_by_day.csv', header=None, names=column_names)\n",
    "\n",
    "# 将Date列转换为日期时间格式\n",
    "data['Date'] = pd.to_datetime(data['Date'], format='%Y%m%d')\n",
    "\n",
    "# 选择指定日期范围的数据\n",
    "start_date = '20220101'\n",
    "end_date = '20220531'\n",
    "selected_data = data[(data['Date'] >= start_date) & (data['Date'] <= end_date)]\n",
    "data = selected_data.copy()"
   ],
   "metadata": {
    "collapsed": false,
    "is_executing": true,
    "ExecuteTime": {
     "start_time": "2023-12-11T07:00:47.810979Z"
    }
   }
  },
  {
   "cell_type": "code",
   "execution_count": null,
   "outputs": [],
   "source": [
    "# 特征选择\n",
    "# 请根据实际情况选择合适的特征列\n",
    "features = ['Close', 'Volume']\n",
    "X = data[features]"
   ],
   "metadata": {
    "collapsed": false,
    "is_executing": true
   }
  },
  {
   "cell_type": "code",
   "execution_count": null,
   "outputs": [],
   "source": [
    "# 标签选择\n",
    "# 请根据实际情况选择合适的标签列\n",
    "y = data['label']\n",
    "\n",
    "# 划分训练集和测试集\n",
    "X_train, X_test, y_train, y_test = train_test_split(X, y, test_size=0.2, random_state=42)\n"
   ],
   "metadata": {
    "collapsed": false,
    "is_executing": true
   }
  },
  {
   "cell_type": "code",
   "execution_count": null,
   "outputs": [],
   "source": [
    "# 构建XGBoost模型\n",
    "model = xgb.XGBClassifier(objective='binary:logistic', eval_metric='logloss')\n",
    "\n",
    "# 训练模型\n",
    "model.fit(X_train, y_train)\n",
    "\n",
    "# 在测试集上进行预测\n",
    "y_pred = model.predict(X_test)\n",
    "\n",
    "# 评估模型性能\n",
    "print(\"Accuracy:\", accuracy_score(y_test, y_pred))\n",
    "print(\"\\nConfusion Matrix:\\n\", confusion_matrix(y_test, y_pred))\n",
    "print(\"\\nClassification Report:\\n\", classification_report(y_test, y_pred))\n",
    "\n",
    "# 特征重要性分析\n",
    "xgb.plot_importance(model)\n",
    "\n",
    "# 在实际应用中，你可能需要保存模型以便后续使用\n",
    "# model.save_model('stock_model.json')\n"
   ],
   "metadata": {
    "collapsed": false,
    "is_executing": true
   }
  }
 ],
 "metadata": {
  "kernelspec": {
   "display_name": "Python 3",
   "language": "python",
   "name": "python3"
  },
  "language_info": {
   "codemirror_mode": {
    "name": "ipython",
    "version": 2
   },
   "file_extension": ".py",
   "mimetype": "text/x-python",
   "name": "python",
   "nbconvert_exporter": "python",
   "pygments_lexer": "ipython2",
   "version": "2.7.6"
  }
 },
 "nbformat": 4,
 "nbformat_minor": 0
}
