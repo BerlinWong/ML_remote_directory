{
 "cells": [
  {
   "cell_type": "code",
   "execution_count": 4,
   "metadata": {
    "collapsed": true,
    "ExecuteTime": {
     "end_time": "2023-12-11T10:29:30.236201700Z",
     "start_time": "2023-12-11T10:29:01.036025500Z"
    }
   },
   "outputs": [],
   "source": [
    "import pandas as pd\n",
    "\n",
    "data = pd.read_csv('../data/history__stock_k_data_2022_by_day.csv', header=0)\n"
   ]
  },
  {
   "cell_type": "code",
   "execution_count": 5,
   "outputs": [
    {
     "data": {
      "text/plain": "        code        date                 time   open   high    low  close  \\\n0  sz.000001  2022-01-04  2022-01-04 09:35:00  16.48  16.50  16.25  16.35   \n1  sz.000002  2022-01-04  2022-01-04 09:35:00  19.49  19.54  19.36  19.43   \n2  sz.000004  2022-01-04  2022-01-04 09:35:00  19.41  19.58  19.41  19.55   \n3  sz.000005  2022-01-04  2022-01-04 09:35:00   2.30   2.30   2.28   2.28   \n4  sz.000006  2022-01-04  2022-01-04 09:35:00   4.45   4.45   4.41   4.43   \n\n    volume       amount  adjustflag  \n0  9908020  162305526.0           3  \n1  8490400  165027766.0           3  \n2   127600    2488627.0           3  \n3  1005400    2307295.0           3  \n4   774200    3430394.0           3  ",
      "text/html": "<div>\n<style scoped>\n    .dataframe tbody tr th:only-of-type {\n        vertical-align: middle;\n    }\n\n    .dataframe tbody tr th {\n        vertical-align: top;\n    }\n\n    .dataframe thead th {\n        text-align: right;\n    }\n</style>\n<table border=\"1\" class=\"dataframe\">\n  <thead>\n    <tr style=\"text-align: right;\">\n      <th></th>\n      <th>code</th>\n      <th>date</th>\n      <th>time</th>\n      <th>open</th>\n      <th>high</th>\n      <th>low</th>\n      <th>close</th>\n      <th>volume</th>\n      <th>amount</th>\n      <th>adjustflag</th>\n    </tr>\n  </thead>\n  <tbody>\n    <tr>\n      <th>0</th>\n      <td>sz.000001</td>\n      <td>2022-01-04</td>\n      <td>2022-01-04 09:35:00</td>\n      <td>16.48</td>\n      <td>16.50</td>\n      <td>16.25</td>\n      <td>16.35</td>\n      <td>9908020</td>\n      <td>162305526.0</td>\n      <td>3</td>\n    </tr>\n    <tr>\n      <th>1</th>\n      <td>sz.000002</td>\n      <td>2022-01-04</td>\n      <td>2022-01-04 09:35:00</td>\n      <td>19.49</td>\n      <td>19.54</td>\n      <td>19.36</td>\n      <td>19.43</td>\n      <td>8490400</td>\n      <td>165027766.0</td>\n      <td>3</td>\n    </tr>\n    <tr>\n      <th>2</th>\n      <td>sz.000004</td>\n      <td>2022-01-04</td>\n      <td>2022-01-04 09:35:00</td>\n      <td>19.41</td>\n      <td>19.58</td>\n      <td>19.41</td>\n      <td>19.55</td>\n      <td>127600</td>\n      <td>2488627.0</td>\n      <td>3</td>\n    </tr>\n    <tr>\n      <th>3</th>\n      <td>sz.000005</td>\n      <td>2022-01-04</td>\n      <td>2022-01-04 09:35:00</td>\n      <td>2.30</td>\n      <td>2.30</td>\n      <td>2.28</td>\n      <td>2.28</td>\n      <td>1005400</td>\n      <td>2307295.0</td>\n      <td>3</td>\n    </tr>\n    <tr>\n      <th>4</th>\n      <td>sz.000006</td>\n      <td>2022-01-04</td>\n      <td>2022-01-04 09:35:00</td>\n      <td>4.45</td>\n      <td>4.45</td>\n      <td>4.41</td>\n      <td>4.43</td>\n      <td>774200</td>\n      <td>3430394.0</td>\n      <td>3</td>\n    </tr>\n  </tbody>\n</table>\n</div>"
     },
     "execution_count": 5,
     "metadata": {},
     "output_type": "execute_result"
    }
   ],
   "source": [
    "data.head()"
   ],
   "metadata": {
    "collapsed": false,
    "ExecuteTime": {
     "end_time": "2023-12-11T10:29:30.285236300Z",
     "start_time": "2023-12-11T10:29:30.242292300Z"
    }
   }
  },
  {
   "cell_type": "code",
   "execution_count": 6,
   "outputs": [],
   "source": [
    "df = data.copy() # 688376"
   ],
   "metadata": {
    "collapsed": false,
    "ExecuteTime": {
     "end_time": "2023-12-11T10:29:31.751337500Z",
     "start_time": "2023-12-11T10:29:30.268495200Z"
    }
   }
  },
  {
   "cell_type": "code",
   "execution_count": 7,
   "outputs": [],
   "source": [
    "selected_stock = df[df['code'] == 'sh.688376']"
   ],
   "metadata": {
    "collapsed": false,
    "ExecuteTime": {
     "end_time": "2023-12-11T10:29:33.720498900Z",
     "start_time": "2023-12-11T10:29:33.660636500Z"
    }
   }
  },
  {
   "cell_type": "code",
   "execution_count": 7,
   "outputs": [],
   "source": [],
   "metadata": {
    "collapsed": false,
    "ExecuteTime": {
     "end_time": "2023-12-11T10:29:33.771803900Z",
     "start_time": "2023-12-11T10:29:33.721498200Z"
    }
   }
  }
 ],
 "metadata": {
  "kernelspec": {
   "display_name": "Python 3",
   "language": "python",
   "name": "python3"
  },
  "language_info": {
   "codemirror_mode": {
    "name": "ipython",
    "version": 2
   },
   "file_extension": ".py",
   "mimetype": "text/x-python",
   "name": "python",
   "nbconvert_exporter": "python",
   "pygments_lexer": "ipython2",
   "version": "2.7.6"
  }
 },
 "nbformat": 4,
 "nbformat_minor": 0
}
